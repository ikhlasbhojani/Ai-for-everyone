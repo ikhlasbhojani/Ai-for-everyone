{
 "cells": [
  {
   "cell_type": "markdown",
   "id": "e962b65c",
   "metadata": {},
   "source": [
    "# functions\n",
    "* pre-define functions & user define functions\n",
    "\n",
    "* Return function\n",
    "* Non-Return function\n",
    "* Defult function\n",
    "* Required arguments function\n",
    "* Optional arguments function\n"
   ]
  },
  {
   "cell_type": "markdown",
   "id": "042c09ca",
   "metadata": {},
   "source": [
    "# Default Function\n",
    "* not required any argument when it will call"
   ]
  },
  {
   "cell_type": "code",
   "execution_count": 1,
   "id": "3a32e61b",
   "metadata": {},
   "outputs": [
    {
     "name": "stdout",
     "output_type": "stream",
     "text": [
      "we love pakistan\n",
      "we love pakistan\n",
      "we love pakistan\n"
     ]
    }
   ],
   "source": [
    "def country_message():\n",
    "    print(\"we love pakistan\")\n",
    "    print(\"we love pakistan\")\n",
    "    print(\"we love pakistan\")\n",
    "    \n",
    "country_message()"
   ]
  },
  {
   "cell_type": "code",
   "execution_count": 3,
   "id": "cec253f6",
   "metadata": {},
   "outputs": [
    {
     "name": "stdout",
     "output_type": "stream",
     "text": [
      "i love pakistan\n",
      "i live pakistan\n",
      "my life pakistan\n"
     ]
    }
   ],
   "source": [
    "def any_country(country_name):\n",
    "    print(f\"i love {country_name}\")\n",
    "    print(f\"i live {country_name}\")\n",
    "    print(f\"my life {country_name}\")\n",
    "\n",
    "any_country(\"pakistan\")    "
   ]
  },
  {
   "cell_type": "code",
   "execution_count": 9,
   "id": "ecb9e0fe",
   "metadata": {},
   "outputs": [
    {
     "name": "stdout",
     "output_type": "stream",
     "text": [
      "\n",
      "    we love our country\n",
      "    my country name is Pakistan\n",
      "    Pakistan Zinda Bad!\n",
      "    \n",
      "\n",
      "    we love our country\n",
      "    my country name is Sham\n",
      "    Sham Zinda Bad!\n",
      "    \n",
      "\n",
      "    we love our country\n",
      "    my country name is Dubai\n",
      "    Dubai Zinda Bad!\n",
      "    \n"
     ]
    }
   ],
   "source": [
    "def any_country(country_name):\n",
    "    result = f\"\"\"\n",
    "    we love our country\n",
    "    my country name is {country_name}\n",
    "    {country_name} Zinda Bad!\n",
    "    \"\"\"\n",
    "    return result\n",
    "    \n",
    "a = any_country(\"Pakistan\")\n",
    "b = any_country(\"Sham\")\n",
    "c = any_country(\"Dubai\")\n",
    "      \n",
    "print(a)\n",
    "print(b)\n",
    "print(c)"
   ]
  },
  {
   "cell_type": "code",
   "execution_count": null,
   "id": "4a84a808",
   "metadata": {},
   "outputs": [],
   "source": []
  }
 ],
 "metadata": {
  "kernelspec": {
   "display_name": "Python 3 (ipykernel)",
   "language": "python",
   "name": "python3"
  },
  "language_info": {
   "codemirror_mode": {
    "name": "ipython",
    "version": 3
   },
   "file_extension": ".py",
   "mimetype": "text/x-python",
   "name": "python",
   "nbconvert_exporter": "python",
   "pygments_lexer": "ipython3",
   "version": "3.9.13"
  }
 },
 "nbformat": 4,
 "nbformat_minor": 5
}
