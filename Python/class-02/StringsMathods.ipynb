{
 "cells": [
  {
   "cell_type": "code",
   "execution_count": 1,
   "id": "b211e62c",
   "metadata": {},
   "outputs": [
    {
     "ename": "SyntaxError",
     "evalue": "invalid syntax (1156607532.py, line 3)",
     "output_type": "error",
     "traceback": [
      "\u001b[1;36m  File \u001b[1;32m\"C:\\Users\\ikhlas\\AppData\\Local\\Temp\\ipykernel_9128\\1156607532.py\"\u001b[1;36m, line \u001b[1;32m3\u001b[0m\n\u001b[1;33m    institute_name = Saylani Mass IT Traning\u001b[0m\n\u001b[1;37m                             ^\u001b[0m\n\u001b[1;31mSyntaxError\u001b[0m\u001b[1;31m:\u001b[0m invalid syntax\n"
     ]
    }
   ],
   "source": [
    "first_name = Ikhlas \n",
    "last_name = Bhojani\n",
    "institute_name = Saylani Mass IT Traning\n",
    "\n",
    "card = \"Institute name: \" + insttitute_name + \"/nStudent Full Name: \" + first_name +\" \"+last_name\n",
    "\n",
    "print(card)"
   ]
  },
  {
   "cell_type": "code",
   "execution_count": 4,
   "id": "7390811c",
   "metadata": {},
   "outputs": [
    {
     "name": "stdout",
     "output_type": "stream",
     "text": [
      "Institute name: Saylani Mass IT Traning\n",
      "Student Full Name: Ikhlas Bhojani\n"
     ]
    }
   ],
   "source": [
    "first_name = \"Ikhlas\" \n",
    "last_name = \"Bhojani\"\n",
    "institute_name = \"Saylani Mass IT Traning\"\n",
    "\n",
    "card = \"Institute name: \" + institute_name + \"\\nStudent Full Name: \" + first_name +\" \"+last_name\n",
    "\n",
    "print(card)"
   ]
  },
  {
   "cell_type": "markdown",
   "id": "a777bd2f",
   "metadata": {},
   "source": [
    "# string"
   ]
  },
  {
   "cell_type": "code",
   "execution_count": 9,
   "id": "d30b4ec9",
   "metadata": {},
   "outputs": [
    {
     "name": "stdout",
     "output_type": "stream",
     "text": [
      "1 capitalize\n",
      "2 casefold\n",
      "3 center\n",
      "4 count\n",
      "5 encode\n",
      "6 endswith\n",
      "7 expandtabs\n",
      "8 find\n",
      "9 format\n",
      "10 index\n",
      "11 isalnum\n",
      "12 isalpha\n",
      "13 isascii\n",
      "14 isdecimal\n",
      "15 isdigit\n",
      "16 isidentifier\n",
      "17 islower\n",
      "18 isnumeric\n",
      "19 isprintable\n",
      "20 isspace\n",
      "21 istitle\n",
      "22 isupper\n",
      "23 join\n",
      "24 ljust\n",
      "25 lower\n",
      "26 lstrip\n",
      "27 maketrans\n",
      "28 partition\n",
      "29 removeprefix\n",
      "30 removesuffix\n",
      "31 replace\n",
      "32 rfind\n",
      "33 rindex\n",
      "34 rjust\n",
      "35 rpartition\n",
      "36 rsplit\n",
      "37 rstrip\n",
      "38 split\n",
      "39 splitlines\n",
      "40 startswith\n",
      "41 strip\n",
      "42 swapcase\n",
      "43 title\n",
      "44 translate\n",
      "45 upper\n",
      "46 zfill\n"
     ]
    }
   ],
   "source": [
    "for  idx, i in enumerate([i for i in dir(card) if \"_\" not in i]):\n",
    "    print(idx + 1,i)"
   ]
  },
  {
   "cell_type": "markdown",
   "id": "d6110032",
   "metadata": {},
   "source": [
    "##  Capitalize Method"
   ]
  },
  {
   "cell_type": "code",
   "execution_count": 10,
   "id": "47d2e29b",
   "metadata": {},
   "outputs": [
    {
     "name": "stdout",
     "output_type": "stream",
     "text": [
      "Institute name: saylani mass it traning\n",
      "student full name: ikhlas bhojani\n"
     ]
    }
   ],
   "source": [
    "print(card.capitalize())"
   ]
  },
  {
   "cell_type": "markdown",
   "id": "f2b05347",
   "metadata": {},
   "source": [
    "# Casefold Method"
   ]
  },
  {
   "cell_type": "code",
   "execution_count": 11,
   "id": "2413f118",
   "metadata": {},
   "outputs": [
    {
     "name": "stdout",
     "output_type": "stream",
     "text": [
      "institute name: saylani mass it traning\n",
      "student full name: ikhlas bhojani\n"
     ]
    }
   ],
   "source": [
    "print(card.casefold())"
   ]
  },
  {
   "cell_type": "markdown",
   "id": "25c73269",
   "metadata": {},
   "source": [
    "# Center Method"
   ]
  },
  {
   "cell_type": "code",
   "execution_count": 23,
   "id": "6455ac27",
   "metadata": {},
   "outputs": [
    {
     "name": "stdout",
     "output_type": "stream",
     "text": [
      "***Institute name: Saylani Mass IT Traning\n",
      "Student Full Name: Ikhlas Bhojani****\n"
     ]
    }
   ],
   "source": [
    "print(card.center(80, \"*\"))"
   ]
  },
  {
   "cell_type": "markdown",
   "id": "4ed39b65",
   "metadata": {},
   "source": [
    "# Count Method"
   ]
  },
  {
   "cell_type": "code",
   "execution_count": 33,
   "id": "c597961a",
   "metadata": {},
   "outputs": [
    {
     "name": "stdout",
     "output_type": "stream",
     "text": [
      "74\n"
     ]
    }
   ],
   "source": [
    "print(card.count(\"\"))"
   ]
  },
  {
   "cell_type": "markdown",
   "id": "01a9d560",
   "metadata": {},
   "source": [
    "# Encode Method"
   ]
  },
  {
   "cell_type": "code",
   "execution_count": 34,
   "id": "36a93dd8",
   "metadata": {},
   "outputs": [
    {
     "name": "stdout",
     "output_type": "stream",
     "text": [
      "b'Institute name: Saylani Mass IT Traning\\nStudent Full Name: Ikhlas Bhojani'\n"
     ]
    }
   ],
   "source": [
    "print(card.encode())"
   ]
  },
  {
   "cell_type": "markdown",
   "id": "3d656704",
   "metadata": {},
   "source": [
    "# Endswith Mathod"
   ]
  },
  {
   "cell_type": "code",
   "execution_count": 39,
   "id": "02aba98e",
   "metadata": {},
   "outputs": [
    {
     "name": "stdout",
     "output_type": "stream",
     "text": [
      "False\n"
     ]
    }
   ],
   "source": [
    "print(card.endswith(\"ikhlas\"))"
   ]
  },
  {
   "cell_type": "markdown",
   "id": "96af5303",
   "metadata": {},
   "source": [
    "# Expandtabs Method"
   ]
  },
  {
   "cell_type": "code",
   "execution_count": 44,
   "id": "b1a8da44",
   "metadata": {},
   "outputs": [
    {
     "name": "stdout",
     "output_type": "stream",
     "text": [
      "Institute name: Saylani Mass IT Traning\n",
      "Student Full Name: Ikhlas Bhojani\n"
     ]
    }
   ],
   "source": [
    "print(card.expandtabs())"
   ]
  },
  {
   "cell_type": "markdown",
   "id": "3e8f0d99",
   "metadata": {},
   "source": [
    "# Find Method"
   ]
  },
  {
   "cell_type": "code",
   "execution_count": 46,
   "id": "733a3ff1",
   "metadata": {},
   "outputs": [
    {
     "name": "stdout",
     "output_type": "stream",
     "text": [
      "11\n"
     ]
    }
   ],
   "source": [
    "print(card.find(\"a\"))"
   ]
  },
  {
   "cell_type": "markdown",
   "id": "19a5efd2",
   "metadata": {},
   "source": [
    "# Format Method"
   ]
  },
  {
   "cell_type": "code",
   "execution_count": 48,
   "id": "de161f6c",
   "metadata": {},
   "outputs": [
    {
     "name": "stdout",
     "output_type": "stream",
     "text": [
      "Institute name: Saylani Mass IT Traning\n",
      "Student Full Name: Ikhlas Bhojani\n"
     ]
    }
   ],
   "source": [
    "print(card.format(price = 49))"
   ]
  },
  {
   "cell_type": "code",
   "execution_count": null,
   "id": "989d29ba",
   "metadata": {},
   "outputs": [],
   "source": []
  }
 ],
 "metadata": {
  "kernelspec": {
   "display_name": "Python 3 (ipykernel)",
   "language": "python",
   "name": "python3"
  },
  "language_info": {
   "codemirror_mode": {
    "name": "ipython",
    "version": 3
   },
   "file_extension": ".py",
   "mimetype": "text/x-python",
   "name": "python",
   "nbconvert_exporter": "python",
   "pygments_lexer": "ipython3",
   "version": "3.9.13"
  }
 },
 "nbformat": 4,
 "nbformat_minor": 5
}
